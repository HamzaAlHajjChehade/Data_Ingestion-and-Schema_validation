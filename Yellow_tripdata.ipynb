{
 "cells": [
  {
   "cell_type": "code",
   "execution_count": 9,
   "id": "b6efe548",
   "metadata": {},
   "outputs": [],
   "source": [
    "import os\n",
    "import time"
   ]
  },
  {
   "cell_type": "code",
   "execution_count": 10,
   "id": "55fbde09",
   "metadata": {},
   "outputs": [
    {
     "data": {
      "text/plain": [
       "125457064"
      ]
     },
     "execution_count": 10,
     "metadata": {},
     "output_type": "execute_result"
    }
   ],
   "source": [
    "#Size of the file\n",
    "os.path.getsize('C:/Users/mizoh/Desktop/Data Glacier/Data Ingestion/yellow_tripdata.csv')"
   ]
  },
  {
   "cell_type": "code",
   "execution_count": 11,
   "id": "054b7247",
   "metadata": {},
   "outputs": [
    {
     "name": "stdout",
     "output_type": "stream",
     "text": [
      "Read the csv file with dask: 0.022143125534057617 sec\n"
     ]
    }
   ],
   "source": [
    "#Read data with Dask:\n",
    "from dask import dataframe as dd\n",
    "start=time.time()\n",
    "dask_df=dd.read_csv('C:/Users/mizoh/Desktop/Data Glacier/Data Ingestion/yellow_tripdata.csv')\n",
    "end=time.time()\n",
    "print('Read the csv file with dask:',(end-start),'sec')"
   ]
  },
  {
   "cell_type": "code",
   "execution_count": 12,
   "id": "8dfbf369",
   "metadata": {},
   "outputs": [
    {
     "name": "stdout",
     "output_type": "stream",
     "text": [
      "Read te csv file with pandas : 2.100923776626587 sec\n"
     ]
    }
   ],
   "source": [
    "#Read data with Pandas:\n",
    "import pandas as pd\n",
    "start=time.time()\n",
    "pandas_df=pd.read_csv('C:/Users/mizoh/Desktop/Data Glacier/Data Ingestion/yellow_tripdata.csv')\n",
    "end=time.time()\n",
    "print('Read te csv file with pandas :',(end-start),'sec')"
   ]
  },
  {
   "cell_type": "code",
   "execution_count": 13,
   "id": "05641a05",
   "metadata": {},
   "outputs": [
    {
     "name": "stderr",
     "output_type": "stream",
     "text": [
      "UserWarning: The pandas version installed 1.3.0 does not match the supported pandas version in Modin 1.3.2. This may cause undesired side effects!\n",
      "2021-08-28 13:06:51,213\tINFO services.py:1263 -- View the Ray dashboard at \u001b[1m\u001b[32mhttp://127.0.0.1:8265\u001b[39m\u001b[22m\n"
     ]
    },
    {
     "name": "stdout",
     "output_type": "stream",
     "text": [
      "Read te csv file with modin and ray : 2.4228675365448 sec\n"
     ]
    }
   ],
   "source": [
    "#Read data with modin and ray:\n",
    "import modin.pandas as pd\n",
    "import ray\n",
    "ray.shutdown()\n",
    "ray.init()\n",
    "start=time.time()\n",
    "pandas_df=pd.read_csv('C:/Users/mizoh/Desktop/Data Glacier/Data Ingestion/yellow_tripdata.csv')\n",
    "end=time.time()\n",
    "print('Read te csv file with modin and ray :',(end-start),'sec')"
   ]
  },
  {
   "cell_type": "code",
   "execution_count": 14,
   "id": "9169e87f",
   "metadata": {},
   "outputs": [],
   "source": [
    "#So we can notice that Dask is better than Pandas,Modin,and Ray with least reading time 0.015"
   ]
  },
  {
   "cell_type": "code",
   "execution_count": 15,
   "id": "5cd0f6a0",
   "metadata": {},
   "outputs": [],
   "source": [
    "from dask import dataframe as dd\n",
    "df=dd.read_csv('C:/Users/mizoh/Desktop/Data Glacier/Data Ingestion/yellow_tripdata.csv',delimiter=',')"
   ]
  },
  {
   "cell_type": "code",
   "execution_count": 16,
   "id": "39e7a7fc",
   "metadata": {},
   "outputs": [
    {
     "name": "stdout",
     "output_type": "stream",
     "text": [
      "<class 'dask.dataframe.core.DataFrame'>\n",
      "Columns: 19 entries, VendorID to total amount\n",
      "dtypes: object(3), float64(12), int64(4)"
     ]
    }
   ],
   "source": [
    "df.info()"
   ]
  },
  {
   "cell_type": "code",
   "execution_count": 17,
   "id": "20608a78",
   "metadata": {},
   "outputs": [
    {
     "data": {
      "text/plain": [
       "1048575"
      ]
     },
     "execution_count": 17,
     "metadata": {},
     "output_type": "execute_result"
    }
   ],
   "source": [
    "len(df.index)"
   ]
  },
  {
   "cell_type": "code",
   "execution_count": 18,
   "id": "bf09ff1b",
   "metadata": {},
   "outputs": [
    {
     "data": {
      "text/plain": [
       "Index(['VendorID', 'tpep pickup datetime', 'tpep dropoff datetime',\n",
       "       'passenger count', 'trip distance', 'pickup longitude',\n",
       "       'pickup latitude', 'Rate CodeID', 'store and fwd flag',\n",
       "       'dropoff longitude', 'dropoff latitude', 'payment type', 'fare amount',\n",
       "       'extra', 'mta tax', 'tip amount', 'tolls amount',\n",
       "       'improvement surcharge', 'total amount'],\n",
       "      dtype='object')"
      ]
     },
     "execution_count": 18,
     "metadata": {},
     "output_type": "execute_result"
    }
   ],
   "source": [
    "df.columns"
   ]
  },
  {
   "cell_type": "code",
   "execution_count": 19,
   "id": "2d793f95",
   "metadata": {},
   "outputs": [],
   "source": [
    "#Remove spaces from the Column Names:\n",
    "df.columns=df.columns.str.replace(\" \",'_')"
   ]
  },
  {
   "cell_type": "code",
   "execution_count": 20,
   "id": "10452385",
   "metadata": {},
   "outputs": [
    {
     "data": {
      "text/html": [
       "<div>\n",
       "<style scoped>\n",
       "    .dataframe tbody tr th:only-of-type {\n",
       "        vertical-align: middle;\n",
       "    }\n",
       "\n",
       "    .dataframe tbody tr th {\n",
       "        vertical-align: top;\n",
       "    }\n",
       "\n",
       "    .dataframe thead th {\n",
       "        text-align: right;\n",
       "    }\n",
       "</style>\n",
       "<table border=\"1\" class=\"dataframe\">\n",
       "  <thead>\n",
       "    <tr style=\"text-align: right;\">\n",
       "      <th></th>\n",
       "      <th>VendorID</th>\n",
       "      <th>tpep_pickup_datetime</th>\n",
       "      <th>tpep_dropoff_datetime</th>\n",
       "      <th>passenger_count</th>\n",
       "      <th>trip_distance</th>\n",
       "      <th>pickup_longitude</th>\n",
       "      <th>pickup_latitude</th>\n",
       "      <th>Rate_CodeID</th>\n",
       "      <th>store_and_fwd_flag</th>\n",
       "      <th>dropoff_longitude</th>\n",
       "      <th>dropoff_latitude</th>\n",
       "      <th>payment_type</th>\n",
       "      <th>fare_amount</th>\n",
       "      <th>extra</th>\n",
       "      <th>mta_tax</th>\n",
       "      <th>tip_amount</th>\n",
       "      <th>tolls_amount</th>\n",
       "      <th>improvement_surcharge</th>\n",
       "      <th>total_amount</th>\n",
       "    </tr>\n",
       "  </thead>\n",
       "  <tbody>\n",
       "    <tr>\n",
       "      <th>0</th>\n",
       "      <td>1</td>\n",
       "      <td>3/6/2015 8:02</td>\n",
       "      <td>3/6/2015 8:09</td>\n",
       "      <td>1</td>\n",
       "      <td>1.2</td>\n",
       "      <td>-73.990211</td>\n",
       "      <td>40.750969</td>\n",
       "      <td>1</td>\n",
       "      <td>N</td>\n",
       "      <td>-73.987892</td>\n",
       "      <td>40.738037</td>\n",
       "      <td>2</td>\n",
       "      <td>7.0</td>\n",
       "      <td>0.0</td>\n",
       "      <td>0.5</td>\n",
       "      <td>0.00</td>\n",
       "      <td>0.0</td>\n",
       "      <td>0.3</td>\n",
       "      <td>7.80</td>\n",
       "    </tr>\n",
       "    <tr>\n",
       "      <th>1</th>\n",
       "      <td>1</td>\n",
       "      <td>3/6/2015 8:02</td>\n",
       "      <td>3/6/2015 8:15</td>\n",
       "      <td>1</td>\n",
       "      <td>3.2</td>\n",
       "      <td>-73.935188</td>\n",
       "      <td>40.800720</td>\n",
       "      <td>1</td>\n",
       "      <td>N</td>\n",
       "      <td>-73.952553</td>\n",
       "      <td>40.765373</td>\n",
       "      <td>2</td>\n",
       "      <td>11.5</td>\n",
       "      <td>0.0</td>\n",
       "      <td>0.5</td>\n",
       "      <td>0.00</td>\n",
       "      <td>0.0</td>\n",
       "      <td>0.3</td>\n",
       "      <td>12.30</td>\n",
       "    </tr>\n",
       "    <tr>\n",
       "      <th>2</th>\n",
       "      <td>1</td>\n",
       "      <td>3/6/2015 8:02</td>\n",
       "      <td>3/6/2015 8:12</td>\n",
       "      <td>1</td>\n",
       "      <td>1.1</td>\n",
       "      <td>-73.963753</td>\n",
       "      <td>40.767937</td>\n",
       "      <td>1</td>\n",
       "      <td>N</td>\n",
       "      <td>-73.956947</td>\n",
       "      <td>40.780270</td>\n",
       "      <td>2</td>\n",
       "      <td>8.0</td>\n",
       "      <td>0.0</td>\n",
       "      <td>0.5</td>\n",
       "      <td>0.00</td>\n",
       "      <td>0.0</td>\n",
       "      <td>0.3</td>\n",
       "      <td>8.80</td>\n",
       "    </tr>\n",
       "    <tr>\n",
       "      <th>3</th>\n",
       "      <td>1</td>\n",
       "      <td>3/6/2015 8:02</td>\n",
       "      <td>3/6/2015 8:09</td>\n",
       "      <td>1</td>\n",
       "      <td>0.8</td>\n",
       "      <td>-73.997177</td>\n",
       "      <td>40.742168</td>\n",
       "      <td>1</td>\n",
       "      <td>N</td>\n",
       "      <td>-74.008064</td>\n",
       "      <td>40.739281</td>\n",
       "      <td>1</td>\n",
       "      <td>6.0</td>\n",
       "      <td>0.0</td>\n",
       "      <td>0.5</td>\n",
       "      <td>1.00</td>\n",
       "      <td>0.0</td>\n",
       "      <td>0.3</td>\n",
       "      <td>7.80</td>\n",
       "    </tr>\n",
       "    <tr>\n",
       "      <th>4</th>\n",
       "      <td>1</td>\n",
       "      <td>3/6/2015 8:02</td>\n",
       "      <td>3/6/2015 8:19</td>\n",
       "      <td>1</td>\n",
       "      <td>2.7</td>\n",
       "      <td>-74.006844</td>\n",
       "      <td>40.730267</td>\n",
       "      <td>1</td>\n",
       "      <td>N</td>\n",
       "      <td>-73.976860</td>\n",
       "      <td>40.750671</td>\n",
       "      <td>1</td>\n",
       "      <td>13.0</td>\n",
       "      <td>0.0</td>\n",
       "      <td>0.5</td>\n",
       "      <td>2.75</td>\n",
       "      <td>0.0</td>\n",
       "      <td>0.3</td>\n",
       "      <td>16.55</td>\n",
       "    </tr>\n",
       "  </tbody>\n",
       "</table>\n",
       "</div>"
      ],
      "text/plain": [
       "   VendorID tpep_pickup_datetime tpep_dropoff_datetime  passenger_count  \\\n",
       "0         1        3/6/2015 8:02         3/6/2015 8:09                1   \n",
       "1         1        3/6/2015 8:02         3/6/2015 8:15                1   \n",
       "2         1        3/6/2015 8:02         3/6/2015 8:12                1   \n",
       "3         1        3/6/2015 8:02         3/6/2015 8:09                1   \n",
       "4         1        3/6/2015 8:02         3/6/2015 8:19                1   \n",
       "\n",
       "   trip_distance  pickup_longitude  pickup_latitude  Rate_CodeID  \\\n",
       "0            1.2        -73.990211        40.750969            1   \n",
       "1            3.2        -73.935188        40.800720            1   \n",
       "2            1.1        -73.963753        40.767937            1   \n",
       "3            0.8        -73.997177        40.742168            1   \n",
       "4            2.7        -74.006844        40.730267            1   \n",
       "\n",
       "  store_and_fwd_flag  dropoff_longitude  dropoff_latitude  payment_type  \\\n",
       "0                  N         -73.987892         40.738037             2   \n",
       "1                  N         -73.952553         40.765373             2   \n",
       "2                  N         -73.956947         40.780270             2   \n",
       "3                  N         -74.008064         40.739281             1   \n",
       "4                  N         -73.976860         40.750671             1   \n",
       "\n",
       "   fare_amount  extra  mta_tax  tip_amount  tolls_amount  \\\n",
       "0          7.0    0.0      0.5        0.00           0.0   \n",
       "1         11.5    0.0      0.5        0.00           0.0   \n",
       "2          8.0    0.0      0.5        0.00           0.0   \n",
       "3          6.0    0.0      0.5        1.00           0.0   \n",
       "4         13.0    0.0      0.5        2.75           0.0   \n",
       "\n",
       "   improvement_surcharge  total_amount  \n",
       "0                    0.3          7.80  \n",
       "1                    0.3         12.30  \n",
       "2                    0.3          8.80  \n",
       "3                    0.3          7.80  \n",
       "4                    0.3         16.55  "
      ]
     },
     "execution_count": 20,
     "metadata": {},
     "output_type": "execute_result"
    }
   ],
   "source": [
    "df.head()"
   ]
  },
  {
   "cell_type": "code",
   "execution_count": 21,
   "id": "4d21c593",
   "metadata": {
    "scrolled": true
   },
   "outputs": [
    {
     "data": {
      "text/plain": [
       "Index(['VendorID', 'tpep_pickup_datetime', 'tpep_dropoff_datetime',\n",
       "       'passenger_count', 'trip_distance', 'pickup_longitude',\n",
       "       'pickup_latitude', 'Rate_CodeID', 'store_and_fwd_flag',\n",
       "       'dropoff_longitude', 'dropoff_latitude', 'payment_type', 'fare_amount',\n",
       "       'extra', 'mta_tax', 'tip_amount', 'tolls_amount',\n",
       "       'improvement_surcharge', 'total_amount'],\n",
       "      dtype='object')"
      ]
     },
     "execution_count": 21,
     "metadata": {},
     "output_type": "execute_result"
    }
   ],
   "source": [
    "df.columns"
   ]
  },
  {
   "cell_type": "code",
   "execution_count": 102,
   "id": "ba6c12ae",
   "metadata": {},
   "outputs": [
    {
     "name": "stdout",
     "output_type": "stream",
     "text": [
      "Overwriting utility.py\n"
     ]
    }
   ],
   "source": [
    "%%writefile utility.py\n",
    "import logging\n",
    "import os\n",
    "import subprocess\n",
    "import yaml\n",
    "import pandas as pd\n",
    "import datetime \n",
    "import gc\n",
    "import re\n",
    "\n",
    "def read_config_file(filepath):\n",
    "    with open(filepath, 'r') as stream:\n",
    "        try:\n",
    "            return yaml.load(stream, Loader=yaml.Loader)\n",
    "        except yaml.YAMLError as exc:\n",
    "            logging.error(exc)\n",
    "\n",
    "def col_header_val(df,table_config):\n",
    "    df.columns = df.columns.str.lower()\n",
    "    df.columns = df.columns.str.replace('[^\\w]','_',regex=True)\n",
    "    df.columns = list(map(lambda x: x.strip('_'), list(df.columns)))\n",
    "    df.columns = list(map(lambda x: replacer(x,'_'), list(df.columns)))\n",
    "    expected_col = list(map(lambda x: x.lower(),  table_config['columns']))\n",
    "    expected_col.sort()\n",
    "    df.columns =list(map(lambda x: x.lower(), list(df.columns)))\n",
    "    df = df.reindex(sorted(df.columns), axis=1)\n",
    "    if len(df.columns) == len(expected_col) and list(expected_col)  == list(df.columns):\n",
    "        print(\"column name and column length validation passed\")\n",
    "        return 1\n",
    "    else:\n",
    "        print(\"column name and column length validation failed\")\n",
    "        mismatched_columns_file = list(set(df.columns).difference(expected_col))\n",
    "        print(\"Following File columns are not in the YAML file\",mismatched_columns_file)\n",
    "        missing_YAML_file = list(set(expected_col).difference(df.columns))\n",
    "        print(\"Following YAML columns are not in the file uploaded\",missing_YAML_file)\n",
    "        logging.info(f'df columns: {df.columns}')\n",
    "        logging.info(f'expected columns: {expected_col}')\n",
    "        return 0"
   ]
  },
  {
   "cell_type": "code",
   "execution_count": 103,
   "id": "e64de878",
   "metadata": {},
   "outputs": [
    {
     "name": "stdout",
     "output_type": "stream",
     "text": [
      "Overwriting data.yaml\n"
     ]
    }
   ],
   "source": [
    "%%writefile data.yaml\n",
    "file_type: csv\n",
    "dataset_name: file\n",
    "file_name: yellow_tripdata\n",
    "table_name: edsurv\n",
    "inbound_delimiter: ','\n",
    "outbound_delimiter: '|'\n",
    "skip_leading_rows: 1\n",
    "columns:\n",
    "    - VendorID\n",
    "    - tpep_pickup_datetime\n",
    "    - tpep_dropoff_datetime\n",
    "    - passenger_count\n",
    "    - trip_distance\n",
    "    - pickup_longitude\n",
    "    - pickup_latitude\n",
    "    - Rate_CodeID\n",
    "    - store_and_fwd_flag\n",
    "    - dropoff_longitude\n",
    "    - dropoff_latitude\n",
    "    - payment_type\n",
    "    - fare_amount\n",
    "    - extra\n",
    "    - mta_tax\n",
    "    - tip_amount\n",
    "    - tolls_amount\n",
    "    - improvement_surcharge\n",
    "    - total_amount"
   ]
  },
  {
   "cell_type": "code",
   "execution_count": 104,
   "id": "cb896b20",
   "metadata": {},
   "outputs": [],
   "source": [
    "#Reading Config File:\n",
    "import utility as util\n",
    "config_data=util.read_config_file('data.yaml')"
   ]
  },
  {
   "cell_type": "code",
   "execution_count": 105,
   "id": "0a9c2b0a",
   "metadata": {},
   "outputs": [
    {
     "data": {
      "text/plain": [
       "'csv'"
      ]
     },
     "execution_count": 105,
     "metadata": {},
     "output_type": "execute_result"
    }
   ],
   "source": [
    "#data of config file\n",
    "config_data['file_type']"
   ]
  },
  {
   "cell_type": "code",
   "execution_count": 106,
   "id": "286fe64b",
   "metadata": {},
   "outputs": [
    {
     "data": {
      "text/plain": [
       "{'file_type': 'csv',\n",
       " 'dataset_name': 'file',\n",
       " 'file_name': 'yellow_tripdata',\n",
       " 'table_name': 'edsurv',\n",
       " 'inbound_delimiter': ',',\n",
       " 'outbound_delimiter': '|',\n",
       " 'skip_leading_rows': 1,\n",
       " 'columns': ['VendorID',\n",
       "  'tpep_pickup_datetime',\n",
       "  'tpep_dropoff_datetime',\n",
       "  'passenger_count',\n",
       "  'trip_distance',\n",
       "  'pickup_longitude',\n",
       "  'pickup_latitude',\n",
       "  'Rate_CodeID',\n",
       "  'store_and_fwd_flag',\n",
       "  'dropoff_longitude',\n",
       "  'dropoff_latitude',\n",
       "  'payment_type',\n",
       "  'fare_amount',\n",
       "  'extra',\n",
       "  'mta_tax',\n",
       "  'tip_amount',\n",
       "  'tolls_amount',\n",
       "  'improvement_surcharge',\n",
       "  'total_amount']}"
      ]
     },
     "execution_count": 106,
     "metadata": {},
     "output_type": "execute_result"
    }
   ],
   "source": [
    "config_data"
   ]
  },
  {
   "cell_type": "code",
   "execution_count": 107,
   "id": "ba7ec8c7",
   "metadata": {},
   "outputs": [
    {
     "data": {
      "text/html": [
       "<div>\n",
       "<style scoped>\n",
       "    .dataframe tbody tr th:only-of-type {\n",
       "        vertical-align: middle;\n",
       "    }\n",
       "\n",
       "    .dataframe tbody tr th {\n",
       "        vertical-align: top;\n",
       "    }\n",
       "\n",
       "    .dataframe thead th {\n",
       "        text-align: right;\n",
       "    }\n",
       "</style>\n",
       "<table border=\"1\" class=\"dataframe\">\n",
       "  <thead>\n",
       "    <tr style=\"text-align: right;\">\n",
       "      <th></th>\n",
       "      <th>VendorID</th>\n",
       "      <th>tpep pickup datetime</th>\n",
       "      <th>tpep dropoff datetime</th>\n",
       "      <th>passenger count</th>\n",
       "      <th>trip distance</th>\n",
       "      <th>pickup longitude</th>\n",
       "      <th>pickup latitude</th>\n",
       "      <th>Rate CodeID</th>\n",
       "      <th>store and fwd flag</th>\n",
       "      <th>dropoff longitude</th>\n",
       "      <th>dropoff latitude</th>\n",
       "      <th>payment type</th>\n",
       "      <th>fare amount</th>\n",
       "      <th>extra</th>\n",
       "      <th>mta tax</th>\n",
       "      <th>tip amount</th>\n",
       "      <th>tolls amount</th>\n",
       "      <th>improvement surcharge</th>\n",
       "      <th>total amount</th>\n",
       "    </tr>\n",
       "  </thead>\n",
       "  <tbody>\n",
       "    <tr>\n",
       "      <th>0</th>\n",
       "      <td>1</td>\n",
       "      <td>3/6/2015 8:02</td>\n",
       "      <td>3/6/2015 8:09</td>\n",
       "      <td>1</td>\n",
       "      <td>1.2</td>\n",
       "      <td>-73.990211</td>\n",
       "      <td>40.750969</td>\n",
       "      <td>1</td>\n",
       "      <td>N</td>\n",
       "      <td>-73.987892</td>\n",
       "      <td>40.738037</td>\n",
       "      <td>2</td>\n",
       "      <td>7.0</td>\n",
       "      <td>0.0</td>\n",
       "      <td>0.5</td>\n",
       "      <td>0.00</td>\n",
       "      <td>0.0</td>\n",
       "      <td>0.3</td>\n",
       "      <td>7.80</td>\n",
       "    </tr>\n",
       "    <tr>\n",
       "      <th>1</th>\n",
       "      <td>1</td>\n",
       "      <td>3/6/2015 8:02</td>\n",
       "      <td>3/6/2015 8:15</td>\n",
       "      <td>1</td>\n",
       "      <td>3.2</td>\n",
       "      <td>-73.935188</td>\n",
       "      <td>40.800720</td>\n",
       "      <td>1</td>\n",
       "      <td>N</td>\n",
       "      <td>-73.952553</td>\n",
       "      <td>40.765373</td>\n",
       "      <td>2</td>\n",
       "      <td>11.5</td>\n",
       "      <td>0.0</td>\n",
       "      <td>0.5</td>\n",
       "      <td>0.00</td>\n",
       "      <td>0.0</td>\n",
       "      <td>0.3</td>\n",
       "      <td>12.30</td>\n",
       "    </tr>\n",
       "    <tr>\n",
       "      <th>2</th>\n",
       "      <td>1</td>\n",
       "      <td>3/6/2015 8:02</td>\n",
       "      <td>3/6/2015 8:12</td>\n",
       "      <td>1</td>\n",
       "      <td>1.1</td>\n",
       "      <td>-73.963753</td>\n",
       "      <td>40.767937</td>\n",
       "      <td>1</td>\n",
       "      <td>N</td>\n",
       "      <td>-73.956947</td>\n",
       "      <td>40.780270</td>\n",
       "      <td>2</td>\n",
       "      <td>8.0</td>\n",
       "      <td>0.0</td>\n",
       "      <td>0.5</td>\n",
       "      <td>0.00</td>\n",
       "      <td>0.0</td>\n",
       "      <td>0.3</td>\n",
       "      <td>8.80</td>\n",
       "    </tr>\n",
       "    <tr>\n",
       "      <th>3</th>\n",
       "      <td>1</td>\n",
       "      <td>3/6/2015 8:02</td>\n",
       "      <td>3/6/2015 8:09</td>\n",
       "      <td>1</td>\n",
       "      <td>0.8</td>\n",
       "      <td>-73.997177</td>\n",
       "      <td>40.742168</td>\n",
       "      <td>1</td>\n",
       "      <td>N</td>\n",
       "      <td>-74.008064</td>\n",
       "      <td>40.739281</td>\n",
       "      <td>1</td>\n",
       "      <td>6.0</td>\n",
       "      <td>0.0</td>\n",
       "      <td>0.5</td>\n",
       "      <td>1.00</td>\n",
       "      <td>0.0</td>\n",
       "      <td>0.3</td>\n",
       "      <td>7.80</td>\n",
       "    </tr>\n",
       "    <tr>\n",
       "      <th>4</th>\n",
       "      <td>1</td>\n",
       "      <td>3/6/2015 8:02</td>\n",
       "      <td>3/6/2015 8:19</td>\n",
       "      <td>1</td>\n",
       "      <td>2.7</td>\n",
       "      <td>-74.006844</td>\n",
       "      <td>40.730267</td>\n",
       "      <td>1</td>\n",
       "      <td>N</td>\n",
       "      <td>-73.976860</td>\n",
       "      <td>40.750671</td>\n",
       "      <td>1</td>\n",
       "      <td>13.0</td>\n",
       "      <td>0.0</td>\n",
       "      <td>0.5</td>\n",
       "      <td>2.75</td>\n",
       "      <td>0.0</td>\n",
       "      <td>0.3</td>\n",
       "      <td>16.55</td>\n",
       "    </tr>\n",
       "  </tbody>\n",
       "</table>\n",
       "</div>"
      ],
      "text/plain": [
       "   VendorID tpep pickup datetime tpep dropoff datetime  passenger count  \\\n",
       "0         1        3/6/2015 8:02         3/6/2015 8:09                1   \n",
       "1         1        3/6/2015 8:02         3/6/2015 8:15                1   \n",
       "2         1        3/6/2015 8:02         3/6/2015 8:12                1   \n",
       "3         1        3/6/2015 8:02         3/6/2015 8:09                1   \n",
       "4         1        3/6/2015 8:02         3/6/2015 8:19                1   \n",
       "\n",
       "   trip distance  pickup longitude  pickup latitude  Rate CodeID  \\\n",
       "0            1.2        -73.990211        40.750969            1   \n",
       "1            3.2        -73.935188        40.800720            1   \n",
       "2            1.1        -73.963753        40.767937            1   \n",
       "3            0.8        -73.997177        40.742168            1   \n",
       "4            2.7        -74.006844        40.730267            1   \n",
       "\n",
       "  store and fwd flag  dropoff longitude  dropoff latitude  payment type  \\\n",
       "0                  N         -73.987892         40.738037             2   \n",
       "1                  N         -73.952553         40.765373             2   \n",
       "2                  N         -73.956947         40.780270             2   \n",
       "3                  N         -74.008064         40.739281             1   \n",
       "4                  N         -73.976860         40.750671             1   \n",
       "\n",
       "   fare amount  extra  mta tax  tip amount  tolls amount  \\\n",
       "0          7.0    0.0      0.5        0.00           0.0   \n",
       "1         11.5    0.0      0.5        0.00           0.0   \n",
       "2          8.0    0.0      0.5        0.00           0.0   \n",
       "3          6.0    0.0      0.5        1.00           0.0   \n",
       "4         13.0    0.0      0.5        2.75           0.0   \n",
       "\n",
       "   improvement surcharge  total amount  \n",
       "0                    0.3          7.80  \n",
       "1                    0.3         12.30  \n",
       "2                    0.3          8.80  \n",
       "3                    0.3          7.80  \n",
       "4                    0.3         16.55  "
      ]
     },
     "execution_count": 107,
     "metadata": {},
     "output_type": "execute_result"
    }
   ],
   "source": [
    "# Reading process of the file using Dask\n",
    "from dask import dataframe as dd\n",
    "df_sample = dd.read_csv('C:/Users/mizoh/Desktop/Data Glacier/Data Ingestion/yellow_tripdata.csv',delimiter=',')\n",
    "df_sample.head()"
   ]
  },
  {
   "cell_type": "code",
   "execution_count": 108,
   "id": "bb0319a4",
   "metadata": {},
   "outputs": [],
   "source": [
    "#Reading the file using config file\n",
    "file_type = config_data['file_type']\n",
    "source_file = \"C:/Users/mizoh/Desktop/Data Glacier/Data Ingestion/\" + config_data['file_name'] + f'.{file_type}'"
   ]
  },
  {
   "cell_type": "code",
   "execution_count": 109,
   "id": "c055649b",
   "metadata": {},
   "outputs": [
    {
     "name": "stderr",
     "output_type": "stream",
     "text": [
      "FutureWarning: In a future version of pandas all arguments of read_csv except for the argument 'filepath_or_buffer' will be keyword-only\n"
     ]
    },
    {
     "data": {
      "text/html": [
       "<div>\n",
       "<style scoped>\n",
       "    .dataframe tbody tr th:only-of-type {\n",
       "        vertical-align: middle;\n",
       "    }\n",
       "\n",
       "    .dataframe tbody tr th {\n",
       "        vertical-align: top;\n",
       "    }\n",
       "\n",
       "    .dataframe thead th {\n",
       "        text-align: right;\n",
       "    }\n",
       "</style>\n",
       "<table border=\"1\" class=\"dataframe\">\n",
       "  <thead>\n",
       "    <tr style=\"text-align: right;\">\n",
       "      <th></th>\n",
       "      <th>VendorID</th>\n",
       "      <th>tpep pickup datetime</th>\n",
       "      <th>tpep dropoff datetime</th>\n",
       "      <th>passenger count</th>\n",
       "      <th>trip distance</th>\n",
       "      <th>pickup longitude</th>\n",
       "      <th>pickup latitude</th>\n",
       "      <th>Rate CodeID</th>\n",
       "      <th>store and fwd flag</th>\n",
       "      <th>dropoff longitude</th>\n",
       "      <th>dropoff latitude</th>\n",
       "      <th>payment type</th>\n",
       "      <th>fare amount</th>\n",
       "      <th>extra</th>\n",
       "      <th>mta tax</th>\n",
       "      <th>tip amount</th>\n",
       "      <th>tolls amount</th>\n",
       "      <th>improvement surcharge</th>\n",
       "      <th>total amount</th>\n",
       "    </tr>\n",
       "  </thead>\n",
       "  <tbody>\n",
       "    <tr>\n",
       "      <th>0</th>\n",
       "      <td>1</td>\n",
       "      <td>3/6/2015 8:02</td>\n",
       "      <td>3/6/2015 8:09</td>\n",
       "      <td>1</td>\n",
       "      <td>1.2</td>\n",
       "      <td>-73.990211</td>\n",
       "      <td>40.750969</td>\n",
       "      <td>1</td>\n",
       "      <td>N</td>\n",
       "      <td>-73.987892</td>\n",
       "      <td>40.738037</td>\n",
       "      <td>2</td>\n",
       "      <td>7.0</td>\n",
       "      <td>0.0</td>\n",
       "      <td>0.5</td>\n",
       "      <td>0.00</td>\n",
       "      <td>0.0</td>\n",
       "      <td>0.3</td>\n",
       "      <td>7.80</td>\n",
       "    </tr>\n",
       "    <tr>\n",
       "      <th>1</th>\n",
       "      <td>1</td>\n",
       "      <td>3/6/2015 8:02</td>\n",
       "      <td>3/6/2015 8:15</td>\n",
       "      <td>1</td>\n",
       "      <td>3.2</td>\n",
       "      <td>-73.935188</td>\n",
       "      <td>40.800720</td>\n",
       "      <td>1</td>\n",
       "      <td>N</td>\n",
       "      <td>-73.952553</td>\n",
       "      <td>40.765373</td>\n",
       "      <td>2</td>\n",
       "      <td>11.5</td>\n",
       "      <td>0.0</td>\n",
       "      <td>0.5</td>\n",
       "      <td>0.00</td>\n",
       "      <td>0.0</td>\n",
       "      <td>0.3</td>\n",
       "      <td>12.30</td>\n",
       "    </tr>\n",
       "    <tr>\n",
       "      <th>2</th>\n",
       "      <td>1</td>\n",
       "      <td>3/6/2015 8:02</td>\n",
       "      <td>3/6/2015 8:12</td>\n",
       "      <td>1</td>\n",
       "      <td>1.1</td>\n",
       "      <td>-73.963753</td>\n",
       "      <td>40.767937</td>\n",
       "      <td>1</td>\n",
       "      <td>N</td>\n",
       "      <td>-73.956947</td>\n",
       "      <td>40.780270</td>\n",
       "      <td>2</td>\n",
       "      <td>8.0</td>\n",
       "      <td>0.0</td>\n",
       "      <td>0.5</td>\n",
       "      <td>0.00</td>\n",
       "      <td>0.0</td>\n",
       "      <td>0.3</td>\n",
       "      <td>8.80</td>\n",
       "    </tr>\n",
       "    <tr>\n",
       "      <th>3</th>\n",
       "      <td>1</td>\n",
       "      <td>3/6/2015 8:02</td>\n",
       "      <td>3/6/2015 8:09</td>\n",
       "      <td>1</td>\n",
       "      <td>0.8</td>\n",
       "      <td>-73.997177</td>\n",
       "      <td>40.742168</td>\n",
       "      <td>1</td>\n",
       "      <td>N</td>\n",
       "      <td>-74.008064</td>\n",
       "      <td>40.739281</td>\n",
       "      <td>1</td>\n",
       "      <td>6.0</td>\n",
       "      <td>0.0</td>\n",
       "      <td>0.5</td>\n",
       "      <td>1.00</td>\n",
       "      <td>0.0</td>\n",
       "      <td>0.3</td>\n",
       "      <td>7.80</td>\n",
       "    </tr>\n",
       "    <tr>\n",
       "      <th>4</th>\n",
       "      <td>1</td>\n",
       "      <td>3/6/2015 8:02</td>\n",
       "      <td>3/6/2015 8:19</td>\n",
       "      <td>1</td>\n",
       "      <td>2.7</td>\n",
       "      <td>-74.006844</td>\n",
       "      <td>40.730267</td>\n",
       "      <td>1</td>\n",
       "      <td>N</td>\n",
       "      <td>-73.976860</td>\n",
       "      <td>40.750671</td>\n",
       "      <td>1</td>\n",
       "      <td>13.0</td>\n",
       "      <td>0.0</td>\n",
       "      <td>0.5</td>\n",
       "      <td>2.75</td>\n",
       "      <td>0.0</td>\n",
       "      <td>0.3</td>\n",
       "      <td>16.55</td>\n",
       "    </tr>\n",
       "  </tbody>\n",
       "</table>\n",
       "</div>"
      ],
      "text/plain": [
       "   VendorID tpep pickup datetime tpep dropoff datetime  passenger count  \\\n",
       "0         1        3/6/2015 8:02         3/6/2015 8:09                1   \n",
       "1         1        3/6/2015 8:02         3/6/2015 8:15                1   \n",
       "2         1        3/6/2015 8:02         3/6/2015 8:12                1   \n",
       "3         1        3/6/2015 8:02         3/6/2015 8:09                1   \n",
       "4         1        3/6/2015 8:02         3/6/2015 8:19                1   \n",
       "\n",
       "   trip distance  pickup longitude  pickup latitude  Rate CodeID  \\\n",
       "0            1.2        -73.990211        40.750969            1   \n",
       "1            3.2        -73.935188        40.800720            1   \n",
       "2            1.1        -73.963753        40.767937            1   \n",
       "3            0.8        -73.997177        40.742168            1   \n",
       "4            2.7        -74.006844        40.730267            1   \n",
       "\n",
       "  store and fwd flag  dropoff longitude  dropoff latitude  payment type  \\\n",
       "0                  N         -73.987892         40.738037             2   \n",
       "1                  N         -73.952553         40.765373             2   \n",
       "2                  N         -73.956947         40.780270             2   \n",
       "3                  N         -74.008064         40.739281             1   \n",
       "4                  N         -73.976860         40.750671             1   \n",
       "\n",
       "   fare amount  extra  mta tax  tip amount  tolls amount  \\\n",
       "0          7.0    0.0      0.5        0.00           0.0   \n",
       "1         11.5    0.0      0.5        0.00           0.0   \n",
       "2          8.0    0.0      0.5        0.00           0.0   \n",
       "3          6.0    0.0      0.5        1.00           0.0   \n",
       "4         13.0    0.0      0.5        2.75           0.0   \n",
       "\n",
       "   improvement surcharge  total amount  \n",
       "0                    0.3          7.80  \n",
       "1                    0.3         12.30  \n",
       "2                    0.3          8.80  \n",
       "3                    0.3          7.80  \n",
       "4                    0.3         16.55  "
      ]
     },
     "execution_count": 109,
     "metadata": {},
     "output_type": "execute_result"
    }
   ],
   "source": [
    "import pandas as pd\n",
    "df=pd.read_csv(source_file,config_data['inbound_delimiter'])\n",
    "df.head()"
   ]
  },
  {
   "cell_type": "code",
   "execution_count": 110,
   "id": "318ed324",
   "metadata": {},
   "outputs": [
    {
     "name": "stdout",
     "output_type": "stream",
     "text": [
      "columns of files are: Index(['VendorID', 'tpep pickup datetime', 'tpep dropoff datetime',\n",
      "       'passenger count', 'trip distance', 'pickup longitude',\n",
      "       'pickup latitude', 'Rate CodeID', 'store and fwd flag',\n",
      "       'dropoff longitude', 'dropoff latitude', 'payment type', 'fare amount',\n",
      "       'extra', 'mta tax', 'tip amount', 'tolls amount',\n",
      "       'improvement surcharge', 'total amount'],\n",
      "      dtype='object')\n",
      "columns of YAML are: ['VendorID', 'tpep_pickup_datetime', 'tpep_dropoff_datetime', 'passenger_count', 'trip_distance', 'pickup_longitude', 'pickup_latitude', 'Rate_CodeID', 'store_and_fwd_flag', 'dropoff_longitude', 'dropoff_latitude', 'payment_type', 'fare_amount', 'extra', 'mta_tax', 'tip_amount', 'tolls_amount', 'improvement_surcharge', 'total_amount']\n"
     ]
    }
   ],
   "source": [
    "print(\"columns of files are:\" ,df.columns)\n",
    "print(\"columns of YAML are:\" ,config_data['columns'])"
   ]
  },
  {
   "cell_type": "code",
   "execution_count": 112,
   "id": "9226e0e8",
   "metadata": {},
   "outputs": [
    {
     "data": {
      "text/plain": [
       "['C:/Users/mizoh/Desktop/yellow_tripdata.csv.gz\\\\0.part',\n",
       " 'C:/Users/mizoh/Desktop/yellow_tripdata.csv.gz\\\\1.part']"
      ]
     },
     "execution_count": 112,
     "metadata": {},
     "output_type": "execute_result"
    }
   ],
   "source": [
    "import datetime\n",
    "import csv\n",
    "import gzip\n",
    "\n",
    "from dask import dataframe as dd\n",
    "df = dd.read_csv('C:/Users/mizoh/Desktop/Data Glacier/Data Ingestion/yellow_tripdata.csv',delimiter=',')\n",
    "\n",
    "# Write csv in gz format in pipe separated text file (|)\n",
    "df.to_csv('yellow_tripdata.csv.gz',\n",
    "          sep='|',\n",
    "          header=True,\n",
    "          index=False,\n",
    "          quoting=csv.QUOTE_ALL,\n",
    "          compression='gzip',\n",
    "          quotechar='\"',\n",
    "          doublequote=True,\n",
    "          line_terminator='\\n')"
   ]
  },
  {
   "cell_type": "code",
   "execution_count": 115,
   "id": "411b5fa6",
   "metadata": {},
   "outputs": [
    {
     "name": "stdout",
     "output_type": "stream",
     "text": [
      "0.part\n",
      "1.part\n"
     ]
    }
   ],
   "source": [
    "#number of files in gz format folder\n",
    "import os\n",
    "entries = os.listdir('C:/Users/mizoh/Desktop/yellow_tripdata.csv.gz/')\n",
    "for entry in entries:\n",
    "    print(entry)"
   ]
  },
  {
   "cell_type": "code",
   "execution_count": 118,
   "id": "7c939e35",
   "metadata": {},
   "outputs": [
    {
     "data": {
      "text/plain": [
       "0"
      ]
     },
     "execution_count": 118,
     "metadata": {},
     "output_type": "execute_result"
    }
   ],
   "source": [
    "#size of the gz format folder\n",
    "os.path.getsize('C:/Users/mizoh/Desktop/yellow_tripdata.csv.gz/')"
   ]
  },
  {
   "cell_type": "code",
   "execution_count": null,
   "id": "048b395f",
   "metadata": {},
   "outputs": [],
   "source": []
  }
 ],
 "metadata": {
  "kernelspec": {
   "display_name": "Python 3",
   "language": "python",
   "name": "python3"
  },
  "language_info": {
   "codemirror_mode": {
    "name": "ipython",
    "version": 3
   },
   "file_extension": ".py",
   "mimetype": "text/x-python",
   "name": "python",
   "nbconvert_exporter": "python",
   "pygments_lexer": "ipython3",
   "version": "3.8.8"
  }
 },
 "nbformat": 4,
 "nbformat_minor": 5
}
